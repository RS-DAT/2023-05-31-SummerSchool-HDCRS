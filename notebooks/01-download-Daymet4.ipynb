{
 "cells": [
  {
   "cell_type": "code",
   "execution_count": null,
   "id": "800cc4c9-5382-483c-99ba-018a22786f62",
   "metadata": {},
   "outputs": [],
   "source": [
    "import calendar\n",
    "import datetime\n",
    "import os\n",
    "\n",
    "import pyproj\n",
    "import pystac\n",
    "import shapely.geometry\n",
    "import stac2dcache\n",
    "\n",
    "from pystac.extensions.projection import ProjectionExtension\n",
    "from pystac.extensions.scientific import ScientificExtension\n",
    "\n",
    "from stac2dcache.utils import copy_asset"
   ]
  },
  {
   "cell_type": "markdown",
   "id": "789afbeb-6c75-4822-94b3-aabf12c0dc9c",
   "metadata": {},
   "source": [
    "# Download the Daymet dataset as a STAC catalog"
   ]
  },
  {
   "cell_type": "markdown",
   "id": "cd3464a1-9bc1-4465-a37f-e3f5dd385098",
   "metadata": {},
   "source": [
    "## 1. Introduction\n",
    "\n",
    "### 1.1 Overview\n",
    "\n",
    "In this notebook we retrieve (part of) the Daymet dataset, which is made available from the [NASA's Distributed Active Archive Center (DAAC) at Oak Ridge National Laboratory (ORNL)](https://daac.ornl.gov) and download it to the [SURF dCache storage](http://doc.grid.surfsara.nl/en/stable/Pages/Service/system_specifications/dcache_specs.html). The [SpatioTemporal Asset Catalog (STAC)](https://stacspec.org) specification is used to store the dataset metadata and to organize the files within the storage system.  "
   ]
  },
  {
   "cell_type": "markdown",
   "id": "45065e70-498c-402d-8d1b-859fc0a9df99",
   "metadata": {},
   "source": [
    "### 1.2 The dataset\n",
    "\n",
    "The Daymet dataset includes daily surface weather data for North America, starting from from January 1, 1980 (1950 for Puerto Rico). The dataset consists of a set of netCDF files that include gridded estimates of 7 parameters on a 1-km grid. More information on the dataset can be found [here](https://daac.ornl.gov/cgi-bin/dsviewer.pl?ds_id=1840) (dataset version 4.2, https://doi.org/10.3334/ORNLDAAC/1840).\n",
    "\n",
    "<img src=\"https://daymet.ornl.gov/static/graphics/homepage_map.png\" alt=\"Daymet\" width=\"400\"/>"
   ]
  },
  {
   "cell_type": "markdown",
   "id": "9c9c566d-a48a-490e-a750-753b5ee81225",
   "metadata": {},
   "source": [
    "### 1.3 Before running this notebook\n",
    "\n",
    "The dataset and its metadata are stored on the SURF dCache  system, which we access via bearer-token authentication with a macaroon. The macaroon, generated using [this script](https://github.com/sara-nl/GridScripts/blob/master/get-macaroon), is stored together with other configuration parameters within a JSON fsspec configuration file (also see the [STAC2dCache tutorial](https://github.com/NLeSC-GO-common-infrastructure/stac2dcache/blob/main/notebooks/tutorial.ipynb) and the [fsspec documentation](https://filesystem-spec.readthedocs.io/en/latest/features.html#configuration) for more info)."
   ]
  },
  {
   "cell_type": "markdown",
   "id": "0096e3fd-c615-4811-b671-a695d9277e62",
   "metadata": {},
   "source": [
    "## 2. Daymet as a STAC catalog\n",
    "\n",
    "### 2.1 Overview\n",
    "\n",
    "Let's start by creating a STAC catalog for the Daymet dataset and by saving it to the dCache storage. Note that the catalog itself only contains metadata and links to the relevant remote dataset files. These links will be used to retrieve the actual data in the following section."
   ]
  },
  {
   "cell_type": "markdown",
   "id": "8fe38ce3-eed5-4212-a7a2-765c6183bb25",
   "metadata": {},
   "source": [
    "### 2.2 Metadata \n",
    "\n",
    "The catalog metadata are populated using the following information, which we have extracted from the dataset [user guide](https://daac.ornl.gov/DAYMET/guides/Daymet_Daily_V4.html)."
   ]
  },
  {
   "cell_type": "code",
   "execution_count": null,
   "id": "358e9e54-9b9b-43f0-b45b-12e5e88ca155",
   "metadata": {},
   "outputs": [],
   "source": [
    "title = (\n",
    "    \"Daymet: Daily Surface Weather Data on a 1-km Grid \"\n",
    "    \"for North America, Version 4\"\n",
    ")"
   ]
  },
  {
   "cell_type": "code",
   "execution_count": null,
   "id": "85dbbade-9eda-4f00-a8e8-c2013bdec872",
   "metadata": {},
   "outputs": [],
   "source": [
    "# Summary\n",
    "description = (\n",
    "    \"This dataset provides Daymet Version 4 data as gridded \"\n",
    "    \"estimates of daily weather parameters for North America, \"\n",
    "    \"Hawaii, and Puerto Rico. Daymet variables include the \"\n",
    "    \"following parameters: minimum temperature, maximum \"\n",
    "    \"temperature, precipitation, shortwave radiation, vapor \"\n",
    "    \"pressure, snow water equivalent, and day length. The dataset \"\n",
    "    \"covers the period from January 1, 1980, to December 31 (or \"\n",
    "    \"December 30 in leap years) of the most recent full calendar \"\n",
    "    \"year for the Continental North America and Hawaii spatial \"\n",
    "    \"regions. Data for Puerto Rico is available starting in 1950. \"\n",
    "    \"Each subsequent year is processed individually at the close of \"\n",
    "    \"a calendar year. Daymet variables are provided as individual \"\n",
    "    \"files, by variable and year, at a 1 km x 1 km spatial \"\n",
    "    \"resolution and a daily temporal resolution. Areas of Hawaii \"\n",
    "    \"and Puerto Rico are available as files separate from the \"\n",
    "    \"continental North America. Data are in a North America Lambert \"\n",
    "    \"Conformal Conic projection and are distributed in a \"\n",
    "    \"standardized Climate and Forecast (CF)-compliant netCDF file \"\n",
    "    \"format.\"\n",
    ")"
   ]
  },
  {
   "cell_type": "code",
   "execution_count": null,
   "id": "4d1ea610-99db-4e66-848e-3aa35107f3a9",
   "metadata": {},
   "outputs": [],
   "source": [
    "# Citation\n",
    "doi = \"10.3334/ORNLDAAC/1840\""
   ]
  },
  {
   "cell_type": "code",
   "execution_count": null,
   "id": "867aefd9-1e53-4d60-96c2-36f539570a91",
   "metadata": {},
   "outputs": [],
   "source": [
    "# Temporal Coverage and Study Areas\n",
    "# (all latitude and longitude given in decimal degrees)\n",
    "regions = {\n",
    "    \"na\": {\n",
    "        \"full_name\": \"Continental North America\", \n",
    "        \"bbox\": (-178.1333, 14.0749, -53.0567, 82.9143),\n",
    "        \"start_year\": 1980,\n",
    "        \"end_year\": 2021,\n",
    "    },\n",
    "    \"pr\": {\n",
    "        \"full_name\": \"Puerto Rico\", \n",
    "        \"bbox\": (-67.9927, 16.8444, -64.1196, 19.9382),\n",
    "        \"start_year\": 1950,\n",
    "        \"end_year\": 2021,\n",
    "    },\n",
    "    \"hi\": {\n",
    "        \"full_name\": \"Hawaii\", \n",
    "        \"bbox\": (-160.3056, 17.9539, -154.772, 23.5186),\n",
    "        \"start_year\": 1980,\n",
    "        \"end_year\": 2021,\n",
    "    },\n",
    "}"
   ]
  },
  {
   "cell_type": "code",
   "execution_count": null,
   "id": "b0ea052c-22e5-455a-8495-825228ab71c0",
   "metadata": {},
   "outputs": [],
   "source": [
    "# Parameters, abbreviations, units, and descriptions.\n",
    "parameters = {\n",
    "    \"dayl\": {\n",
    "        \"title\": \"Day length\",\n",
    "        \"description\": (\n",
    "            \"Duration of the daylight period in seconds per day. \" \n",
    "            \"This calculation is based on the period of the day \"\n",
    "            \"during which the sun is above a hypothetical flat \"\n",
    "            \"horizon\"\n",
    "        ),\n",
    "        \"units\": \"s/day\",\n",
    "    }, \n",
    "    \"prcp\": {\n",
    "        \"title\": \"Precipitation\",\n",
    "        \"description\": (\n",
    "            \"Daily total precipitation in millimeters. Sum of all \"\n",
    "            \"forms of precipitation converted to a water-equivalent \"\n",
    "            \"depth.\"\n",
    "        ),\n",
    "        \"units\": \"mm\",\n",
    "    }, \n",
    "    \"srad\": {\n",
    "        \"title\": \"Shortwave radiation\",\n",
    "        \"description\": (\n",
    "            \"Incident shortwave radiation flux density in watts per \"\n",
    "            \"square meter, taken as an average over the daylight \"\n",
    "            \"period of the day. Note: Daily total radiation \"\n",
    "            \"(MJ/m2/day) can be calculated as follows: \"\n",
    "            \"((srad (W/m2) * dayl (s/day)) / l,000,000)\"\n",
    "        ),\n",
    "        \"units\": \"W/m2\",\n",
    "    }, \n",
    "    \"swe\": {\n",
    "        \"title\": \"Snow water equivalent\",\n",
    "        \"description\": (\n",
    "            \"Snow water equivalent in kilograms per square meter. \"\n",
    "            \"The amount of water contained within the snowpack.\"\n",
    "        ),\n",
    "        \"units\": \"kg/m2\",\n",
    "    }, \n",
    "    \"tmax\": {\n",
    "        \"title\": \"Maximum air temperature\",\n",
    "        \"description\": (\n",
    "            \"Daily maximum 2 m air temperature in degrees Celsius.\"\n",
    "        ),\n",
    "        \"units\": \"degrees C\",\n",
    "    }, \n",
    "    \"tmin\": {\n",
    "        \"title\": \"Minimum air temperature\",\n",
    "        \"description\": (\n",
    "            \"Daily minimum 2 m air temperature in degrees Celsius.\"\n",
    "        ),\n",
    "        \"units\": \"degrees C\",\n",
    "    }, \n",
    "    \"vp\": {\n",
    "        \"title\": \"Water vapor pressure\",\n",
    "        \"description\": (\n",
    "            \"Water vapor pressure in pascals. Daily average partial \"\n",
    "            \"pressure of water vapor.\"\n",
    "        ),\n",
    "        \"units\": \"Pa\",\n",
    "    },\n",
    "}"
   ]
  },
  {
   "cell_type": "code",
   "execution_count": null,
   "id": "1c7f8496-eef5-45d6-bfa1-f8539918fff6",
   "metadata": {},
   "outputs": [],
   "source": [
    "# Coordinate Reference System\n",
    "proj4_string = (\n",
    "    \"+proj=lcc +lat_1=25 +lat_2=60 +lat_0=42.5 +lon_0=-100 \"\n",
    "    \"+x_0=0 +y_0=0 +ellps=WGS84 +units=m +no_defs\"\n",
    ")"
   ]
  },
  {
   "cell_type": "code",
   "execution_count": null,
   "id": "0517d79c-4f4c-4b33-a217-5c9fd7a1b46a",
   "metadata": {},
   "outputs": [],
   "source": [
    "filename_format = \"daymet_v4_daily_{region}_{parameter}_{year}.nc\""
   ]
  },
  {
   "cell_type": "markdown",
   "id": "083fccd6-d519-4ae3-a9a5-471dc5d49a72",
   "metadata": {},
   "source": [
    "### 2.3 Create STAC Catalog\n",
    "\n",
    "Here we define the catalog structure. A STAC item is created per each year and region, with the 7 dataset parameter files being linked as assets therewithin. All items in a region are organized in a sub-catalog, defined as a STAC collection. \n",
    "\n",
    "Together with the metadata listed above we add information about the Daymet license and about the data provider (ORNL-DAAC): "
   ]
  },
  {
   "cell_type": "code",
   "execution_count": null,
   "id": "7c751ee7-4cc9-4e57-b45e-8fb704beddaf",
   "metadata": {},
   "outputs": [],
   "source": [
    "# link to the dataset license\n",
    "license = pystac.Link(\n",
    "    rel=pystac.RelType.LICENSE,\n",
    "    target=(\n",
    "        \"https://science.nasa.gov/earth-science/\"\n",
    "        \"earth-science-data/data-information-policy\"\n",
    "    ),\n",
    "    title=\"NASA's Earth Science program Data and Information Policy\",\n",
    ")"
   ]
  },
  {
   "cell_type": "code",
   "execution_count": null,
   "id": "1faf1588-9527-40c7-9b6d-53f403344ddb",
   "metadata": {},
   "outputs": [],
   "source": [
    "# data provider, with citation\n",
    "provider = pystac.Provider(\n",
    "    name=\"ORNL DAAC\",\n",
    "    roles=[pystac.ProviderRole.PRODUCER],\n",
    "    url=\"https://doi.org/10.3334/ORNLDAAC/1840\",\n",
    ")"
   ]
  },
  {
   "cell_type": "markdown",
   "id": "73644bd5-1eee-4b31-acce-38d5e7c6df51",
   "metadata": {},
   "source": [
    "The following cell contains the parameters that set the catalog name and the dCache path where the catalog root directory is created: "
   ]
  },
  {
   "cell_type": "code",
   "execution_count": null,
   "id": "54053376-962c-43a6-94c8-fd88dd18fa37",
   "metadata": {},
   "outputs": [],
   "source": [
    "catalog_id = \"daymet-daily-v4\"\n",
    "root_urlpath = \"dcache://pnfs/grid.sara.nl/data/remotesensing/disk/demo\"\n",
    "catalog_urlpath = f\"{root_urlpath}/{catalog_id}\"\n",
    "\n",
    "ornl_daac_root = (\n",
    "    \"https://thredds.daac.ornl.gov/thredds/fileServer/ornldaac/1840/\"\n",
    ")"
   ]
  },
  {
   "cell_type": "code",
   "execution_count": null,
   "id": "7f61af5a-6b30-4a63-a5d4-37d308ccc363",
   "metadata": {},
   "outputs": [],
   "source": [
    "# convert proj4 string to projjson to store CRS within items\n",
    "crs = pyproj.CRS.from_proj4(proj4_string)\n",
    "crs_projjson = crs.to_json_dict()"
   ]
  },
  {
   "cell_type": "code",
   "execution_count": null,
   "id": "23d0f102-73c4-40e1-a0f3-efc70a9ba21d",
   "metadata": {},
   "outputs": [],
   "source": [
    "def get_asset(href, title, description, units):\n",
    "    \"\"\" Create a STAC asset. \"\"\"\n",
    "    return pystac.Asset(\n",
    "        href=href,\n",
    "        title=title,\n",
    "        description=description,\n",
    "        media_type=pystac.MediaType.HDF5,\n",
    "        roles=[\"data\"],\n",
    "        extra_fields={\"units\": units},\n",
    "    )\n",
    "    \n",
    "    \n",
    "def get_item(id, bbox, date_time, projjson, assets):\n",
    "    \"\"\" Create a STAC item. \"\"\"\n",
    "    geometry = shapely.geometry.mapping(\n",
    "        shapely.geometry.Polygon.from_bounds(*bbox)\n",
    "    )\n",
    "    \n",
    "    item = pystac.Item(\n",
    "        id=id,\n",
    "        geometry=geometry,\n",
    "        bbox=bbox,\n",
    "        datetime=date_time,\n",
    "        assets=assets,\n",
    "        properties={\"gsd\": 1000},\n",
    "    )\n",
    "    \n",
    "    # Add projection information to the item\n",
    "    ext = ProjectionExtension.ext(item, add_if_missing=True)\n",
    "    ext.epsg = None\n",
    "    ext.projjson = projjson\n",
    "    return item\n",
    "\n",
    "\n",
    "def get_collection(id, description, provider, doi, items):\n",
    "    \"\"\" Create a STAC collection. \"\"\"\n",
    "    collection = pystac.Collection(\n",
    "        id=id,\n",
    "        description=description,\n",
    "        extent=pystac.Extent.from_items(items),\n",
    "        license=\"proprietary\",\n",
    "        providers=[provider]\n",
    "    )\n",
    "\n",
    "    # Add DOI to collections\n",
    "    ext = ScientificExtension.ext(collection, add_if_missing=True)\n",
    "    ext.doi = doi\n",
    "    \n",
    "    collection.add_items(items)\n",
    "    return collection"
   ]
  },
  {
   "cell_type": "code",
   "execution_count": null,
   "id": "dca88a55-53c3-4557-abb9-64a2d46f1e03",
   "metadata": {},
   "outputs": [],
   "source": [
    "collections = []\n",
    "# Loop over regions ...\n",
    "for region_key, region in regions.items():\n",
    "    items = []\n",
    "    # Loop over years ...\n",
    "    for year in range(region[\"start_year\"], region[\"end_year\"]+1): \n",
    "        assets = {}\n",
    "        # Loop over parameters ...\n",
    "        for parameter_key, parameter in parameters.items():    \n",
    "            filename = filename_format.format(\n",
    "                parameter=parameter_key,\n",
    "                region=region_key,\n",
    "                year=year,\n",
    "            )\n",
    "            # ... create an asset per parameter\n",
    "            assets[parameter_key] = get_asset(\n",
    "                href=f\"{ornl_daac_root}/{filename}\",\n",
    "                title=parameter[\"title\"],\n",
    "                description=parameter[\"description\"],\n",
    "                units=parameter[\"units\"],\n",
    "            )\n",
    "        # ... create an item per year\n",
    "        item = get_item(\n",
    "            id=f\"{region_key}-{year}\",\n",
    "            bbox=region[\"bbox\"],\n",
    "            date_time=datetime.datetime(year, 1, 1),\n",
    "            projjson=crs_projjson,\n",
    "            assets=assets,\n",
    "        )\n",
    "        items.append(item)\n",
    "    # ... create a collection per region\n",
    "    collection = get_collection(\n",
    "        id=f\"region-{region_key}\", \n",
    "        description=f\"Daymet dataset for {region['full_name']}\",\n",
    "        provider=provider,\n",
    "        doi=doi,\n",
    "        items=items\n",
    "    )\n",
    "    collections.append(collection)\n",
    "\n",
    "# Create catalog for Daymet\n",
    "catalog = pystac.Catalog(\n",
    "    id=catalog_id,\n",
    "    description=description,\n",
    "    title=title,\n",
    ")\n",
    "catalog.add_children(collections)\n",
    "catalog.add_link(license)  # add link to license"
   ]
  },
  {
   "cell_type": "code",
   "execution_count": null,
   "id": "ee982d33-adfd-47cd-9451-a5f5761b2712",
   "metadata": {},
   "outputs": [],
   "source": [
    "# get overview of the catalog\n",
    "catalog.describe()"
   ]
  },
  {
   "cell_type": "code",
   "execution_count": null,
   "id": "cdf40738-59c9-467d-9160-a967cc76c6ff",
   "metadata": {},
   "outputs": [],
   "source": [
    "# catalogs also have rich representations in Jupyter\n",
    "catalog"
   ]
  },
  {
   "cell_type": "code",
   "execution_count": null,
   "id": "4ec4939c-397f-4501-84ba-9db38c319ffa",
   "metadata": {},
   "outputs": [],
   "source": [
    "# save catalog to storage\n",
    "print(f\"Saving catalog to {catalog_urlpath} ...\")\n",
    "catalog.normalize_and_save(\n",
    "    catalog_urlpath,\n",
    "    catalog_type=pystac.CatalogType.SELF_CONTAINED,\n",
    ")"
   ]
  },
  {
   "cell_type": "markdown",
   "id": "be4e2c7b-1b2b-4534-adce-9715d05e75f4",
   "metadata": {},
   "source": [
    "## 3. Retrieve data for spring index calculation\n",
    "\n",
    "### 3.1 Overview \n",
    "\n",
    "After having created a STAC catalog with the metadata for the  Daymet dataset, we now procede to retrieve the files that are relevant for the extended Spring Index model calculations over our area of interest. For the purpose of this demo, we will retrieve data for Hawaii (we have run [an analogous retrieval notebook](https://github.com/RS-DAT/JupyterDask-Examples/blob/main/03-phenology/notebooks/01-download-Daymet4.ipynb) for the continental North American region). Only for this region, we retrieve the assets corresponding to the following three parameters: maximum temperature, minimum temperature, and duration of the daylight period. \n",
    "\n",
    "The data files are stored beside the metadata files on the dCache storage. Links within the catalog are updated to point to the files that have been retrieved to SURF infrastructures."
   ]
  },
  {
   "cell_type": "markdown",
   "id": "65707e5b-2704-4896-8ad5-a45571af6876",
   "metadata": {},
   "source": [
    "### 3.2 Dowload\n",
    "\n",
    "We first select the only sub-catalog related to the region of interest (here Hawaii, with collection ID `region-hi`): "
   ]
  },
  {
   "cell_type": "code",
   "execution_count": null,
   "id": "72fc2707-b43b-416f-8c28-218879d03881",
   "metadata": {},
   "outputs": [],
   "source": [
    "collection_hi = catalog.get_child(\"region-hi\")"
   ]
  },
  {
   "cell_type": "markdown",
   "id": "b61422ca-9b13-45c4-84c4-f23fe517652b",
   "metadata": {},
   "source": [
    "Finally, we download the assets to the storage and save the catalog with the updated links:"
   ]
  },
  {
   "cell_type": "code",
   "execution_count": null,
   "id": "64d34f99-10d0-420d-a3e0-ae137018d232",
   "metadata": {},
   "outputs": [],
   "source": [
    "%%time\n",
    "for asset_key in (\"tmin\", \"tmax\", \"dayl\"):\n",
    "    copy_asset(\n",
    "        catalog=collection_hi,\n",
    "        asset_key=asset_key,\n",
    "        update_catalog=True,\n",
    "        max_workers=4\n",
    "    )"
   ]
  },
  {
   "cell_type": "code",
   "execution_count": null,
   "id": "4b4381cd-24bc-4e39-951e-72561682f5c0",
   "metadata": {},
   "outputs": [],
   "source": [
    "catalog.save()"
   ]
  },
  {
   "cell_type": "markdown",
   "id": "a3131905-c897-48ac-b20c-df2957b16ddb",
   "metadata": {},
   "source": [
    "For the Hawaiian region, the overall data volume for the three parameters mentioned above is less than 2 GiB. We have run [an analogous notebook](https://github.com/RS-DAT/JupyterDask-Examples/blob/main/03-phenology/notebooks/01-download-Daymet4.ipynb) to retrieve data for the continental North American region (**~940 GiB**). Using 4 workers to retrieve the items' assets in parallel, the cells above complete in **~7 hours**. "
   ]
  }
 ],
 "metadata": {
  "kernelspec": {
   "display_name": "Python 3 (ipykernel)",
   "language": "python",
   "name": "python3"
  },
  "language_info": {
   "codemirror_mode": {
    "name": "ipython",
    "version": 3
   },
   "file_extension": ".py",
   "mimetype": "text/x-python",
   "name": "python",
   "nbconvert_exporter": "python",
   "pygments_lexer": "ipython3",
   "version": "3.9.13"
  }
 },
 "nbformat": 4,
 "nbformat_minor": 5
}
