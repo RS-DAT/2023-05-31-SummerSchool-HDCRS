{
 "cells": [
  {
   "cell_type": "markdown",
   "id": "208a3382-6f9e-4002-9f1f-a8dd429a73e7",
   "metadata": {},
   "source": [
    "# Parallel calculations using Dask"
   ]
  },
  {
   "cell_type": "markdown",
   "id": "ed2f52d3-feb1-4477-99e9-91c496939bed",
   "metadata": {
    "tags": []
   },
   "source": [
    "From the [Dask documentation](https://docs.dask.org):\n",
    "\n",
    "<img src=\"https://docs.dask.org/en/stable/_images/dask-overview.svg\" width=70%>"
   ]
  },
  {
   "cell_type": "markdown",
   "id": "c1771b99-8fd2-42ca-9d3c-650cc54fdbcf",
   "metadata": {},
   "source": [
    "## 1. Create task graphs"
   ]
  },
  {
   "cell_type": "markdown",
   "id": "0c4ec5e3-f75e-457e-a7e3-94e2dc270cde",
   "metadata": {},
   "source": [
    "### 1.1 Dask Delayed"
   ]
  },
  {
   "cell_type": "code",
   "execution_count": null,
   "id": "49c17839-ef53-4c5b-ad3a-351c56834937",
   "metadata": {},
   "outputs": [],
   "source": [
    "from dask.delayed import delayed"
   ]
  },
  {
   "cell_type": "code",
   "execution_count": null,
   "id": "a42357bd-998c-471f-bacd-df5807ea5d15",
   "metadata": {},
   "outputs": [],
   "source": [
    "@delayed\n",
    "def add(x, y):\n",
    "    print(x, \" + \", y)\n",
    "    return x + y"
   ]
  },
  {
   "cell_type": "code",
   "execution_count": null,
   "id": "4d078f6d-836a-44e3-81d7-c20518f265fc",
   "metadata": {},
   "outputs": [],
   "source": [
    "a_p = add(1, 2)"
   ]
  },
  {
   "cell_type": "code",
   "execution_count": null,
   "id": "65b3083d-eac5-4816-8c10-a720ebf91f11",
   "metadata": {
    "tags": []
   },
   "outputs": [],
   "source": [
    "b_p = add(a_p, 3)"
   ]
  },
  {
   "cell_type": "code",
   "execution_count": null,
   "id": "3e86459a-d0f7-4c0a-9157-a9ca35a0b89f",
   "metadata": {
    "tags": []
   },
   "outputs": [],
   "source": [
    "c_p = add(a_p, b_p)"
   ]
  },
  {
   "cell_type": "code",
   "execution_count": null,
   "id": "1c30d39f-75a1-4c9f-ba05-bbdb14d87b83",
   "metadata": {
    "tags": []
   },
   "outputs": [],
   "source": [
    "import dask\n",
    "dask.visualize(c_p, rankdir=\"LR\")"
   ]
  },
  {
   "cell_type": "code",
   "execution_count": null,
   "id": "26ee13c6-6c94-41a2-a305-991b13c5ca55",
   "metadata": {
    "tags": []
   },
   "outputs": [],
   "source": [
    "c_p.compute()"
   ]
  },
  {
   "cell_type": "markdown",
   "id": "2b282add-3b7f-4efc-9a9e-6d8ec43a44c9",
   "metadata": {},
   "source": [
    "### 1.2 Dask Arrays"
   ]
  },
  {
   "cell_type": "markdown",
   "id": "9a3d9873-235f-495d-aef7-d6f04f022deb",
   "metadata": {},
   "source": [
    "From the [Dask documentation](https://docs.dask.org/en/stable/array.html):\n",
    "\n",
    "<img src=\"https://docs.dask.org/en/stable/_images/dask-array.svg\" width=70%>"
   ]
  },
  {
   "cell_type": "code",
   "execution_count": null,
   "id": "f09aa023-b314-45aa-8cd5-eb5e7d2de90a",
   "metadata": {},
   "outputs": [],
   "source": [
    "import dask.array as da"
   ]
  },
  {
   "cell_type": "code",
   "execution_count": null,
   "id": "7c7cfd96-610e-45dc-a22f-a5a3de92e7b7",
   "metadata": {},
   "outputs": [],
   "source": [
    "x = da.random.random((2000, 1000), chunks=(500, 500))"
   ]
  },
  {
   "cell_type": "code",
   "execution_count": null,
   "id": "205ca36f-402e-4c76-8c91-3172ca1b93b2",
   "metadata": {
    "tags": []
   },
   "outputs": [],
   "source": [
    "x"
   ]
  },
  {
   "cell_type": "code",
   "execution_count": null,
   "id": "1e664ad1-3ebb-41c5-ab0c-4ded996ae663",
   "metadata": {
    "tags": []
   },
   "outputs": [],
   "source": [
    "y = da.dot(x, x.T)"
   ]
  },
  {
   "cell_type": "code",
   "execution_count": null,
   "id": "4cbe53e5-fee4-499c-9601-453dab3d7ad8",
   "metadata": {
    "tags": []
   },
   "outputs": [],
   "source": [
    "y"
   ]
  },
  {
   "cell_type": "code",
   "execution_count": null,
   "id": "23a41379-6d86-440c-a8e5-b9513e6c72b5",
   "metadata": {
    "tags": []
   },
   "outputs": [],
   "source": [
    "z = y.mean()"
   ]
  },
  {
   "cell_type": "code",
   "execution_count": null,
   "id": "66a16ea3-5b28-4007-bec0-bd77ab521382",
   "metadata": {
    "tags": []
   },
   "outputs": [],
   "source": [
    "dask.visualize(z)"
   ]
  },
  {
   "cell_type": "code",
   "execution_count": null,
   "id": "9330c335-2e75-44e3-8ee3-9a1b2e21ed34",
   "metadata": {
    "tags": []
   },
   "outputs": [],
   "source": [
    "z.compute()"
   ]
  },
  {
   "cell_type": "markdown",
   "id": "8215529b-ac70-4d52-9746-449a2cd8e719",
   "metadata": {},
   "source": [
    "### 1.3 Xarray\n",
    "\n",
    "From the [Xarray documentation](https://docs.xarray.dev): \n",
    "\n",
    "<img src=\"https://docs.xarray.dev/en/stable/_images/dataset-diagram.png\" width=70%>"
   ]
  },
  {
   "cell_type": "code",
   "execution_count": null,
   "id": "eecd8f75-fca3-4a4f-a9f6-2848627805b5",
   "metadata": {
    "tags": []
   },
   "outputs": [],
   "source": [
    "raster_path = '/project/stursdat/Data/RS-DAT/sentinel-2-l2a_AMS_2023-04/2023/4/30/S2B_31UFU_20230430_0_L2A/B02.tif'"
   ]
  },
  {
   "cell_type": "code",
   "execution_count": null,
   "id": "9f94ab41-c4d0-4272-8c70-711eaf4eb7e3",
   "metadata": {},
   "outputs": [],
   "source": [
    "import rioxarray"
   ]
  },
  {
   "cell_type": "code",
   "execution_count": null,
   "id": "cb222b35-8a6b-474e-8b9a-552f36de9569",
   "metadata": {},
   "outputs": [],
   "source": [
    "raster = rioxarray.open_rasterio(raster_path, chunks={\"x\": 2048, \"y\": 2048}, lock=False)"
   ]
  },
  {
   "cell_type": "code",
   "execution_count": null,
   "id": "a76c92e0-9eab-4a6e-b81f-482a9bc0a168",
   "metadata": {},
   "outputs": [],
   "source": [
    "raster"
   ]
  },
  {
   "cell_type": "code",
   "execution_count": null,
   "id": "148c0c0b-1851-40d1-99da-b26c45edf868",
   "metadata": {
    "tags": []
   },
   "outputs": [],
   "source": [
    "raster_max = raster.max()"
   ]
  },
  {
   "cell_type": "code",
   "execution_count": null,
   "id": "eecc2110-d5e9-4b2c-99a1-d97a78445d30",
   "metadata": {
    "tags": []
   },
   "outputs": [],
   "source": [
    "raster_max.compute()"
   ]
  },
  {
   "cell_type": "markdown",
   "id": "00988b27-6336-42e9-bff8-5a72fe8bab46",
   "metadata": {},
   "source": [
    "## 2. Execute task graphs"
   ]
  },
  {
   "cell_type": "markdown",
   "id": "8e1a03e9-b1fd-454c-8fe6-53943d0803c4",
   "metadata": {},
   "source": [
    "### 2.1 Multi-threading/processing"
   ]
  },
  {
   "cell_type": "code",
   "execution_count": null,
   "id": "5b9c2be1-00e3-4a76-bd2a-9c1b21c30e05",
   "metadata": {},
   "outputs": [],
   "source": [
    "raster_max.compute(scheduler=\"threads\", n_workers=2)"
   ]
  },
  {
   "cell_type": "code",
   "execution_count": null,
   "id": "571cdb82-48a0-4fb8-9d6e-21453ee9aa1f",
   "metadata": {},
   "outputs": [],
   "source": [
    "raster_max.compute(scheduler=\"processes\", n_workers=2)"
   ]
  },
  {
   "cell_type": "markdown",
   "id": "f0ad183c-a323-4551-bd14-a54b0fc80ced",
   "metadata": {},
   "source": [
    "### 2.2 Distributed scheduler"
   ]
  },
  {
   "cell_type": "code",
   "execution_count": null,
   "id": "c176c0c5-3ec8-44c2-a925-e253e3275a0f",
   "metadata": {
    "tags": []
   },
   "outputs": [],
   "source": [
    "from dask.distributed import Client\n",
    "\n",
    "client = Client(\"tcp://10.0.2.120:39077\")\n",
    "client"
   ]
  },
  {
   "cell_type": "code",
   "execution_count": null,
   "id": "6e294b8b-8614-42d6-8010-313a95c88112",
   "metadata": {},
   "outputs": [],
   "source": [
    "raster_max.compute()"
   ]
  },
  {
   "cell_type": "code",
   "execution_count": null,
   "id": "a22acbbf-5e4d-4aca-93c1-bc826fcda53f",
   "metadata": {},
   "outputs": [],
   "source": [
    "client.close()"
   ]
  }
 ],
 "metadata": {
  "kernelspec": {
   "display_name": "Python 3 (ipykernel)",
   "language": "python",
   "name": "python3"
  },
  "language_info": {
   "codemirror_mode": {
    "name": "ipython",
    "version": 3
   },
   "file_extension": ".py",
   "mimetype": "text/x-python",
   "name": "python",
   "nbconvert_exporter": "python",
   "pygments_lexer": "ipython3",
   "version": "3.10.11"
  }
 },
 "nbformat": 4,
 "nbformat_minor": 5
}
